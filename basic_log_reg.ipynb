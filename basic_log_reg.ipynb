{
 "cells": [
  {
   "cell_type": "markdown",
   "id": "1b16f90d-cd5c-408a-a219-c2996c5dabb5",
   "metadata": {},
   "source": [
    "# Initial Model - Logistic Regression"
   ]
  },
  {
   "cell_type": "code",
   "execution_count": 62,
   "id": "3f3e3499-d520-4ffc-a87d-2465f8b254cc",
   "metadata": {},
   "outputs": [],
   "source": [
    "import pandas as pd\n",
    "import numpy as np\n",
    "import statsmodels.api as sm\n",
    "import pickle\n",
    "from sklearn.model_selection import train_test_split\n",
    "from sklearn.linear_model import LogisticRegression\n",
    "from sklearn.pipeline import Pipeline"
   ]
  },
  {
   "cell_type": "markdown",
   "id": "12220c43-269a-414f-aafa-41f8fa18523e",
   "metadata": {},
   "source": [
    "#### Read data"
   ]
  },
  {
   "cell_type": "code",
   "execution_count": 2,
   "id": "c195856e-f96c-42e8-b360-293a6ecf6fea",
   "metadata": {},
   "outputs": [
    {
     "name": "stdout",
     "output_type": "stream",
     "text": [
      "CPU times: user 7.77 s, sys: 1.7 s, total: 9.47 s\n",
      "Wall time: 9.89 s\n"
     ]
    }
   ],
   "source": [
    "%%time\n",
    "\n",
    "play_data = pd.read_csv(\n",
    "    'data/play_by.csv', \n",
    "    parse_dates=['game_date'],\n",
    "    low_memory=False\n",
    ")"
   ]
  },
  {
   "cell_type": "code",
   "execution_count": 3,
   "id": "b074b9f1-5278-4951-b52a-e76d8723f7d2",
   "metadata": {},
   "outputs": [
    {
     "data": {
      "text/plain": [
       "pass           186677\n",
       "run            132692\n",
       "no_play         42431\n",
       "kickoff         25552\n",
       "punt            23914\n",
       "extra_point     10934\n",
       "field_goal       9777\n",
       "qb_kneel         3830\n",
       "qb_spike          690\n",
       "Name: play_type, dtype: int64"
      ]
     },
     "execution_count": 3,
     "metadata": {},
     "output_type": "execute_result"
    }
   ],
   "source": [
    "play_data.play_type.value_counts()"
   ]
  },
  {
   "cell_type": "code",
   "execution_count": 4,
   "id": "6430a875-2c88-4e32-b676-a682aad2027c",
   "metadata": {},
   "outputs": [],
   "source": [
    "# Filter to only third downs where the choice is to pass or run (other actions are outliers)\n",
    "\n",
    "play_data = play_data.loc[\n",
    "    (play_data.down == 3) &\n",
    "    (play_data.play_type.isin(['pass', 'run']))\n",
    "]"
   ]
  },
  {
   "cell_type": "code",
   "execution_count": 5,
   "id": "32a57957-b0c4-467f-a3ef-40bacabf459b",
   "metadata": {},
   "outputs": [],
   "source": [
    "# Add a constant\n",
    "play_data = sm.add_constant(play_data, has_constant='add')"
   ]
  },
  {
   "cell_type": "code",
   "execution_count": 6,
   "id": "215945ef-3f41-4c2d-9d89-6f28b77f3057",
   "metadata": {},
   "outputs": [],
   "source": [
    "# Drop NAs\n",
    "play_data = play_data.dropna(subset='third_down_converted')"
   ]
  },
  {
   "cell_type": "code",
   "execution_count": 7,
   "id": "d3a3693a-2743-47d5-b23b-1363d380ed65",
   "metadata": {
    "tags": []
   },
   "outputs": [
    {
     "name": "stdout",
     "output_type": "stream",
     "text": [
      "2009-09-10 00:00:00\n",
      "2018-12-17 00:00:00\n"
     ]
    }
   ],
   "source": [
    "print(play_data.game_date.min())\n",
    "print(play_data.game_date.max())"
   ]
  },
  {
   "cell_type": "code",
   "execution_count": 8,
   "id": "12a506c8-e0be-401a-99d6-c796fec4868d",
   "metadata": {
    "tags": []
   },
   "outputs": [
    {
     "data": {
      "text/plain": [
       "(66720, 256)"
      ]
     },
     "execution_count": 8,
     "metadata": {},
     "output_type": "execute_result"
    }
   ],
   "source": [
    "# Check Shape\n",
    "play_data.shape"
   ]
  },
  {
   "cell_type": "markdown",
   "id": "624811d8-e90e-4012-a0a6-da3109b67b67",
   "metadata": {},
   "source": [
    "#### Build Model With No Predictor"
   ]
  },
  {
   "cell_type": "code",
   "execution_count": 9,
   "id": "5374325f-3f5d-4352-b0b6-55cb5f54018d",
   "metadata": {},
   "outputs": [
    {
     "name": "stdout",
     "output_type": "stream",
     "text": [
      "Optimization terminated successfully.\n",
      "         Current function value: 0.669527\n",
      "         Iterations 4\n",
      "                            Logit Regression Results                            \n",
      "================================================================================\n",
      "Dep. Variable:     third_down_converted   No. Observations:                66720\n",
      "Model:                            Logit   Df Residuals:                    66719\n",
      "Method:                             MLE   Df Model:                            0\n",
      "Date:                  Sun, 27 Aug 2023   Pseudo R-squ.:               1.684e-12\n",
      "Time:                          20:08:14   Log-Likelihood:                -44671.\n",
      "converged:                         True   LL-Null:                       -44671.\n",
      "Covariance Type:              nonrobust   LLR p-value:                       nan\n",
      "==============================================================================\n",
      "                 coef    std err          z      P>|z|      [0.025      0.975]\n",
      "------------------------------------------------------------------------------\n",
      "const         -0.4399      0.008    -55.471      0.000      -0.455      -0.424\n",
      "==============================================================================\n"
     ]
    }
   ],
   "source": [
    "lr = sm.Logit(play_data['third_down_converted'], play_data[['const']]).fit()\n",
    "print(lr.summary())"
   ]
  },
  {
   "cell_type": "code",
   "execution_count": 10,
   "id": "192f44f1-5262-4a55-a0a4-6c6d9c0b0d0f",
   "metadata": {},
   "outputs": [
    {
     "data": {
      "text/plain": [
       "const    0.644079\n",
       "dtype: float64"
      ]
     },
     "execution_count": 10,
     "metadata": {},
     "output_type": "execute_result"
    }
   ],
   "source": [
    "np.exp(lr.params)"
   ]
  },
  {
   "cell_type": "markdown",
   "id": "1b6d3bb2-dabd-404f-9978-5bd5637040e1",
   "metadata": {},
   "source": [
    "#### Only yards to go as predictor"
   ]
  },
  {
   "cell_type": "code",
   "execution_count": 11,
   "id": "607b4c14-498f-4d52-a448-bdee26d65a13",
   "metadata": {},
   "outputs": [
    {
     "name": "stdout",
     "output_type": "stream",
     "text": [
      "Optimization terminated successfully.\n",
      "         Current function value: 0.615930\n",
      "         Iterations 6\n",
      "                            Logit Regression Results                            \n",
      "================================================================================\n",
      "Dep. Variable:     third_down_converted   No. Observations:                66720\n",
      "Model:                            Logit   Df Residuals:                    66718\n",
      "Method:                             MLE   Df Model:                            1\n",
      "Date:                  Sun, 27 Aug 2023   Pseudo R-squ.:                 0.08005\n",
      "Time:                          20:08:15   Log-Likelihood:                -41095.\n",
      "converged:                         True   LL-Null:                       -44671.\n",
      "Covariance Type:              nonrobust   LLR p-value:                     0.000\n",
      "==============================================================================\n",
      "                 coef    std err          z      P>|z|      [0.025      0.975]\n",
      "------------------------------------------------------------------------------\n",
      "const          0.6038      0.015     39.550      0.000       0.574       0.634\n",
      "ydstogo       -0.1576      0.002    -75.333      0.000      -0.162      -0.153\n",
      "==============================================================================\n"
     ]
    }
   ],
   "source": [
    "lr = sm.Logit(play_data['third_down_converted'], play_data[['const', 'ydstogo']]).fit()\n",
    "print(lr.summary())"
   ]
  },
  {
   "cell_type": "code",
   "execution_count": 12,
   "id": "98fd701f-3e69-42de-849f-c03ea3c79347",
   "metadata": {},
   "outputs": [
    {
     "data": {
      "text/plain": [
       "const      1.829001\n",
       "ydstogo    0.854203\n",
       "dtype: float64"
      ]
     },
     "execution_count": 12,
     "metadata": {},
     "output_type": "execute_result"
    }
   ],
   "source": [
    "np.exp(lr.params)"
   ]
  },
  {
   "cell_type": "markdown",
   "id": "afd3c247-1583-4f65-b956-bda2ca105ca7",
   "metadata": {},
   "source": [
    "#### `sklearn` model"
   ]
  },
  {
   "cell_type": "code",
   "execution_count": 14,
   "id": "23f06c78-283b-45b7-aeeb-58fdd3c2c6a4",
   "metadata": {
    "tags": []
   },
   "outputs": [],
   "source": [
    "play_data['is_home_team'] = np.where(play_data['home_team'] == play_data['posteam'], 1, 0)"
   ]
  },
  {
   "cell_type": "code",
   "execution_count": 18,
   "id": "6dab66be-e6e9-4b8a-b5a2-5fd0d0467477",
   "metadata": {
    "tags": []
   },
   "outputs": [],
   "source": [
    "# Train test split\n",
    "label = 'third_down_converted'\n",
    "cols = ['ydstogo', 'is_home_team']"
   ]
  },
  {
   "cell_type": "code",
   "execution_count": 19,
   "id": "5277f20d-5349-42ed-a5dc-8a4a4060acc0",
   "metadata": {
    "tags": []
   },
   "outputs": [],
   "source": [
    "X = play_data[cols].values\n",
    "y = play_data[label].values"
   ]
  },
  {
   "cell_type": "code",
   "execution_count": 20,
   "id": "d0e68343-b66f-475b-8959-38c0e8dc719d",
   "metadata": {
    "tags": []
   },
   "outputs": [],
   "source": [
    "X_train, X_test, y_train, y_test = train_test_split(\n",
    "    X, y, test_size=0.33, random_state=42\n",
    ")"
   ]
  },
  {
   "cell_type": "code",
   "execution_count": 21,
   "id": "e0df463b-ffc2-4ce9-8f5f-26b3cbb7395b",
   "metadata": {
    "tags": []
   },
   "outputs": [],
   "source": [
    "lr = LogisticRegression()"
   ]
  },
  {
   "cell_type": "code",
   "execution_count": 22,
   "id": "1f48e9ad-7e86-468b-90ba-7af4646a1352",
   "metadata": {
    "tags": []
   },
   "outputs": [
    {
     "data": {
      "text/html": [
       "<style>#sk-container-id-1 {color: black;background-color: white;}#sk-container-id-1 pre{padding: 0;}#sk-container-id-1 div.sk-toggleable {background-color: white;}#sk-container-id-1 label.sk-toggleable__label {cursor: pointer;display: block;width: 100%;margin-bottom: 0;padding: 0.3em;box-sizing: border-box;text-align: center;}#sk-container-id-1 label.sk-toggleable__label-arrow:before {content: \"▸\";float: left;margin-right: 0.25em;color: #696969;}#sk-container-id-1 label.sk-toggleable__label-arrow:hover:before {color: black;}#sk-container-id-1 div.sk-estimator:hover label.sk-toggleable__label-arrow:before {color: black;}#sk-container-id-1 div.sk-toggleable__content {max-height: 0;max-width: 0;overflow: hidden;text-align: left;background-color: #f0f8ff;}#sk-container-id-1 div.sk-toggleable__content pre {margin: 0.2em;color: black;border-radius: 0.25em;background-color: #f0f8ff;}#sk-container-id-1 input.sk-toggleable__control:checked~div.sk-toggleable__content {max-height: 200px;max-width: 100%;overflow: auto;}#sk-container-id-1 input.sk-toggleable__control:checked~label.sk-toggleable__label-arrow:before {content: \"▾\";}#sk-container-id-1 div.sk-estimator input.sk-toggleable__control:checked~label.sk-toggleable__label {background-color: #d4ebff;}#sk-container-id-1 div.sk-label input.sk-toggleable__control:checked~label.sk-toggleable__label {background-color: #d4ebff;}#sk-container-id-1 input.sk-hidden--visually {border: 0;clip: rect(1px 1px 1px 1px);clip: rect(1px, 1px, 1px, 1px);height: 1px;margin: -1px;overflow: hidden;padding: 0;position: absolute;width: 1px;}#sk-container-id-1 div.sk-estimator {font-family: monospace;background-color: #f0f8ff;border: 1px dotted black;border-radius: 0.25em;box-sizing: border-box;margin-bottom: 0.5em;}#sk-container-id-1 div.sk-estimator:hover {background-color: #d4ebff;}#sk-container-id-1 div.sk-parallel-item::after {content: \"\";width: 100%;border-bottom: 1px solid gray;flex-grow: 1;}#sk-container-id-1 div.sk-label:hover label.sk-toggleable__label {background-color: #d4ebff;}#sk-container-id-1 div.sk-serial::before {content: \"\";position: absolute;border-left: 1px solid gray;box-sizing: border-box;top: 0;bottom: 0;left: 50%;z-index: 0;}#sk-container-id-1 div.sk-serial {display: flex;flex-direction: column;align-items: center;background-color: white;padding-right: 0.2em;padding-left: 0.2em;position: relative;}#sk-container-id-1 div.sk-item {position: relative;z-index: 1;}#sk-container-id-1 div.sk-parallel {display: flex;align-items: stretch;justify-content: center;background-color: white;position: relative;}#sk-container-id-1 div.sk-item::before, #sk-container-id-1 div.sk-parallel-item::before {content: \"\";position: absolute;border-left: 1px solid gray;box-sizing: border-box;top: 0;bottom: 0;left: 50%;z-index: -1;}#sk-container-id-1 div.sk-parallel-item {display: flex;flex-direction: column;z-index: 1;position: relative;background-color: white;}#sk-container-id-1 div.sk-parallel-item:first-child::after {align-self: flex-end;width: 50%;}#sk-container-id-1 div.sk-parallel-item:last-child::after {align-self: flex-start;width: 50%;}#sk-container-id-1 div.sk-parallel-item:only-child::after {width: 0;}#sk-container-id-1 div.sk-dashed-wrapped {border: 1px dashed gray;margin: 0 0.4em 0.5em 0.4em;box-sizing: border-box;padding-bottom: 0.4em;background-color: white;}#sk-container-id-1 div.sk-label label {font-family: monospace;font-weight: bold;display: inline-block;line-height: 1.2em;}#sk-container-id-1 div.sk-label-container {text-align: center;}#sk-container-id-1 div.sk-container {/* jupyter's `normalize.less` sets `[hidden] { display: none; }` but bootstrap.min.css set `[hidden] { display: none !important; }` so we also need the `!important` here to be able to override the default hidden behavior on the sphinx rendered scikit-learn.org. See: https://github.com/scikit-learn/scikit-learn/issues/21755 */display: inline-block !important;position: relative;}#sk-container-id-1 div.sk-text-repr-fallback {display: none;}</style><div id=\"sk-container-id-1\" class=\"sk-top-container\"><div class=\"sk-text-repr-fallback\"><pre>LogisticRegression()</pre><b>In a Jupyter environment, please rerun this cell to show the HTML representation or trust the notebook. <br />On GitHub, the HTML representation is unable to render, please try loading this page with nbviewer.org.</b></div><div class=\"sk-container\" hidden><div class=\"sk-item\"><div class=\"sk-estimator sk-toggleable\"><input class=\"sk-toggleable__control sk-hidden--visually\" id=\"sk-estimator-id-1\" type=\"checkbox\" checked><label for=\"sk-estimator-id-1\" class=\"sk-toggleable__label sk-toggleable__label-arrow\">LogisticRegression</label><div class=\"sk-toggleable__content\"><pre>LogisticRegression()</pre></div></div></div></div></div>"
      ],
      "text/plain": [
       "LogisticRegression()"
      ]
     },
     "execution_count": 22,
     "metadata": {},
     "output_type": "execute_result"
    }
   ],
   "source": [
    "lr.fit(X,y)"
   ]
  },
  {
   "cell_type": "code",
   "execution_count": 58,
   "id": "c1db3f99-be12-4546-9c5b-d9bc424dbe2f",
   "metadata": {
    "tags": []
   },
   "outputs": [],
   "source": [
    "input_yds_to_go = 1\n",
    "input_is_home_team = 1\n",
    "input_val = np.array([[input_yds_to_go, input_is_home_team]])"
   ]
  },
  {
   "cell_type": "code",
   "execution_count": 59,
   "id": "40c5250d-090f-46ca-81e9-39fe5767775d",
   "metadata": {
    "tags": []
   },
   "outputs": [
    {
     "data": {
      "text/plain": [
       "array([[1, 1]])"
      ]
     },
     "execution_count": 59,
     "metadata": {},
     "output_type": "execute_result"
    }
   ],
   "source": [
    "input_val"
   ]
  },
  {
   "cell_type": "code",
   "execution_count": 60,
   "id": "4e6b687f-58de-46c1-b40e-87a07f8ebbc3",
   "metadata": {
    "tags": []
   },
   "outputs": [],
   "source": [
    "predicted_proba = lr.predict_proba(input_val)[0][1]"
   ]
  },
  {
   "cell_type": "code",
   "execution_count": 61,
   "id": "24b3198a-2c0b-4d19-b9e5-42344029b835",
   "metadata": {
    "tags": []
   },
   "outputs": [
    {
     "name": "stdout",
     "output_type": "stream",
     "text": [
      "With 1 yard(s) to go, the odds of converting are 62%.\n"
     ]
    }
   ],
   "source": [
    "print(f'With {input_val[0][0]} yard(s) to go, the odds of converting are {round(predicted_proba * 100)}%.')"
   ]
  },
  {
   "cell_type": "code",
   "execution_count": 64,
   "id": "b324310d-da0f-467d-94a5-ec900b9b3333",
   "metadata": {
    "tags": []
   },
   "outputs": [],
   "source": [
    "# save the model to disk\n",
    "filename = 'model/log_reg.pkl'\n",
    "pickle.dump(lr, open(filename, 'wb'))"
   ]
  },
  {
   "cell_type": "code",
   "execution_count": null,
   "id": "d1e0e5da-e017-4deb-be51-2aabd072f615",
   "metadata": {},
   "outputs": [],
   "source": []
  }
 ],
 "metadata": {
  "kernelspec": {
   "display_name": "Python 3 (ipykernel)",
   "language": "python",
   "name": "python3"
  },
  "language_info": {
   "codemirror_mode": {
    "name": "ipython",
    "version": 3
   },
   "file_extension": ".py",
   "mimetype": "text/x-python",
   "name": "python",
   "nbconvert_exporter": "python",
   "pygments_lexer": "ipython3",
   "version": "3.10.12"
  }
 },
 "nbformat": 4,
 "nbformat_minor": 5
}
