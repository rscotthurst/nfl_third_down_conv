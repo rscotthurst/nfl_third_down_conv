{
 "cells": [
  {
   "cell_type": "markdown",
   "id": "1b6548dc-aa5c-4778-999f-4eabc086de85",
   "metadata": {},
   "source": [
    "# Exploratory Data Analysis "
   ]
  },
  {
   "cell_type": "markdown",
   "id": "8e469d27-0f7e-4a6e-98bf-8fb62f004798",
   "metadata": {},
   "source": [
    "### Imports"
   ]
  },
  {
   "cell_type": "code",
   "execution_count": null,
   "id": "dfbcd16d-de23-4a56-a37c-33b1707f9fb6",
   "metadata": {},
   "outputs": [],
   "source": [
    "import pandas as pd\n",
    "import seaborn as sns"
   ]
  },
  {
   "cell_type": "markdown",
   "id": "8514b9f4-48cb-4055-a38d-c7f0517683f1",
   "metadata": {},
   "source": [
    "### Read Data\n",
    "\n",
    "Data dictionary is available [here](https://nflreadr.nflverse.com/articles/dictionary_pbp.html)."
   ]
  },
  {
   "cell_type": "code",
   "execution_count": null,
   "id": "361520c1-3b3a-49b4-b390-e518e9e48232",
   "metadata": {},
   "outputs": [],
   "source": [
    "%%time\n",
    "\n",
    "play_data = pd.read_csv('data/play_by.csv', low_memory=False)"
   ]
  },
  {
   "cell_type": "code",
   "execution_count": null,
   "id": "c6e92049-1a8a-4a56-8900-c75109537135",
   "metadata": {},
   "outputs": [],
   "source": [
    "third_down = play_data.loc[play_data.down == 3]"
   ]
  },
  {
   "cell_type": "code",
   "execution_count": null,
   "id": "0eef0f01-825e-4371-b31a-4d07e8915c56",
   "metadata": {},
   "outputs": [],
   "source": [
    "third_down.shape"
   ]
  },
  {
   "cell_type": "code",
   "execution_count": null,
   "id": "436cf18b-81b7-4e9b-8297-d9d5c3781966",
   "metadata": {},
   "outputs": [],
   "source": [
    "third_down.third_down_converted.value_counts()"
   ]
  },
  {
   "cell_type": "code",
   "execution_count": null,
   "id": "035ead2d-9276-4417-b6c1-07c858d92cf8",
   "metadata": {},
   "outputs": [],
   "source": [
    "third_down.third_down_failed.value_counts()"
   ]
  },
  {
   "cell_type": "code",
   "execution_count": null,
   "id": "ab61b7a8-cc16-4129-a8b0-29bdb23db8a9",
   "metadata": {},
   "outputs": [],
   "source": [
    "first_down = play_data.loc[(play_data.down == 1) & (play_data.ydstogo < 10)]"
   ]
  },
  {
   "cell_type": "code",
   "execution_count": null,
   "id": "41bfb5af-0833-40f3-9b1f-ca13bd7cae89",
   "metadata": {},
   "outputs": [],
   "source": [
    "pd.crosstab(first_down.ydstogo, first_down.yardline_100)"
   ]
  },
  {
   "cell_type": "code",
   "execution_count": null,
   "id": "a45be2c6-9bf2-4fac-b371-08cb000b9e76",
   "metadata": {},
   "outputs": [],
   "source": [
    "first_down.ydstogo.value_counts()"
   ]
  },
  {
   "cell_type": "code",
   "execution_count": null,
   "id": "193ccf8f-5337-4f6b-b617-8e02f918a9df",
   "metadata": {},
   "outputs": [],
   "source": [
    "third_down.groupby('third_down_converted').ydstogo.mean()"
   ]
  },
  {
   "cell_type": "code",
   "execution_count": null,
   "id": "987d6336-c107-4aa4-afd7-c0746376a708",
   "metadata": {},
   "outputs": [],
   "source": [
    "sns.pairplot(third_down[['third_down_converted', 'ydstogo']])"
   ]
  },
  {
   "cell_type": "code",
   "execution_count": null,
   "id": "4b2159ff-4dc2-47d8-8da7-dbb6c674c267",
   "metadata": {},
   "outputs": [],
   "source": [
    "play_data.sample(500, random_state=32).to_csv('sample_data.csv')"
   ]
  },
  {
   "cell_type": "code",
   "execution_count": null,
   "id": "dfe8f2cf-3e29-4b41-b08b-0a2fc1b78571",
   "metadata": {},
   "outputs": [],
   "source": [
    "for col in play_data.columns:\n",
    "    print(col)"
   ]
  },
  {
   "cell_type": "code",
   "execution_count": null,
   "id": "edcd898b-b563-473a-a0c9-7957f1222f0c",
   "metadata": {},
   "outputs": [],
   "source": []
  }
 ],
 "metadata": {
  "kernelspec": {
   "display_name": "Python 3 (ipykernel)",
   "language": "python",
   "name": "python3"
  },
  "language_info": {
   "codemirror_mode": {
    "name": "ipython",
    "version": 3
   },
   "file_extension": ".py",
   "mimetype": "text/x-python",
   "name": "python",
   "nbconvert_exporter": "python",
   "pygments_lexer": "ipython3",
   "version": "3.8.16"
  }
 },
 "nbformat": 4,
 "nbformat_minor": 5
}
